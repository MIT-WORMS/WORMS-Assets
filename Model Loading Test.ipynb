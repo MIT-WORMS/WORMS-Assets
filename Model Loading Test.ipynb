{
 "cells": [
  {
   "cell_type": "code",
   "execution_count": 77,
   "metadata": {
    "cell_id": "98e73e2536174da7abc64fed258488a2",
    "colab": {},
    "colab_type": "code",
    "deepnote_app_block_visible": true,
    "deepnote_cell_type": "code",
    "deepnote_to_be_reexecuted": false,
    "execution_context_id": "8d81b3bd-8fbd-4a3d-8370-7c14ebd25da1",
    "execution_millis": 397,
    "execution_start": 1728155059098,
    "id": "eeMrMI0-1Dhu",
    "lines_to_end_of_cell_marker": 2,
    "source_hash": "b786aa15"
   },
   "outputs": [
    {
     "name": "stderr",
     "output_type": "stream",
     "text": [
      "INFO:drake:Meshcat listening for connections at http://localhost:7003\n"
     ]
    }
   ],
   "source": [
    "from pydrake.all import ModelVisualizer, PackageMap, StartMeshcat\n",
    "\n",
    "# Start the visualizer.\n",
    "meshcat = StartMeshcat()"
   ]
  },
  {
   "cell_type": "code",
   "execution_count": 114,
   "metadata": {
    "cell_id": "50c0f5e08b004f9ea3655dfd4d346e88",
    "colab": {},
    "colab_type": "code",
    "deepnote_app_block_visible": true,
    "deepnote_cell_type": "code",
    "deepnote_to_be_reexecuted": false,
    "execution_context_id": "8d81b3bd-8fbd-4a3d-8370-7c14ebd25da1",
    "execution_millis": 26504069,
    "execution_start": 1728155061518,
    "id": "9GSF52A8ExQa",
    "source_hash": "99db6cb9"
   },
   "outputs": [
    {
     "name": "stderr",
     "output_type": "stream",
     "text": [
      "INFO:drake:Click 'Stop Running' or press Esc to quit\n"
     ]
    }
   ],
   "source": [
    "visualizer = ModelVisualizer(meshcat=meshcat)\n",
    "visualizer.AddModels(\"URDFs/robot.urdf\")\n",
    "\n",
    "visualizer.Run()\n",
    "meshcat.DeleteAddedControls()"
   ]
  }
 ],
 "metadata": {
  "deepnote_app_layout": "powerful-article",
  "deepnote_app_reactivity_enabled": true,
  "deepnote_execution_queue": [],
  "deepnote_notebook_id": "5a3fc6e5a86242bcbc74eb5b0a32a641",
  "kernelspec": {
   "display_name": "Python 3",
   "language": "python",
   "name": "python3"
  },
  "language_info": {
   "codemirror_mode": {
    "name": "ipython",
    "version": 3
   },
   "file_extension": ".py",
   "mimetype": "text/x-python",
   "name": "python",
   "nbconvert_exporter": "python",
   "pygments_lexer": "ipython3",
   "version": "3.12.7"
  }
 },
 "nbformat": 4,
 "nbformat_minor": 0
}

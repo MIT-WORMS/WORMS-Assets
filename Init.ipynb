{
  "cells": [
    {
      "cell_type": "code",
      "execution_count": 1,
      "metadata": {
        "cell_id": "3a34e028f549402598c5a6e077b19c91",
        "deepnote_cell_type": "code",
        "execution_context_id": "1a04e0bb-9c98-4559-98bc-7fb2018a2dc6",
        "execution_millis": 5384,
        "execution_start": 1728152604510,
        "source_hash": "334722c1"
      },
      "outputs": [
        {
          "name": "stderr",
          "output_type": "stream",
          "text": [
            "bash: line 2: cd: /work/Drake-Deepnote/: No such file or directory\n",
            "sed: preserving permissions for ‘./sedTxsHik’: Operation not permitted\n"
          ]
        },
        {
          "name": "stdout",
          "output_type": "stream",
          "text": [
            "Defaulting to user installation because normal site-packages is not writeable\n",
            "Collecting drake\n",
            "  Downloading drake-1.33.0-cp310-cp310-manylinux_2_35_x86_64.whl (79.7 MB)\n",
            "     ━━━━━━━━━━━━━━━━━━━━━━━━━━━━━━━━━━━━━━━━ 79.7/79.7 MB 11.5 MB/s eta 0:00:00\n",
            "Requirement already satisfied: matplotlib in /usr/lib/python3/dist-packages (from drake->-r ./requirements.txt (line 1)) (3.5.1)\n",
            "Requirement already satisfied: PyYAML in /usr/lib/python3/dist-packages (from drake->-r ./requirements.txt (line 1)) (5.4.1)\n",
            "Requirement already satisfied: pydot in /usr/lib/python3/dist-packages (from drake->-r ./requirements.txt (line 1)) (1.4.2)\n",
            "Requirement already satisfied: numpy in /home/trevor/.local/lib/python3.10/site-packages (from drake->-r ./requirements.txt (line 1)) (1.26.4)\n",
            "Installing collected packages: drake\n",
            "Successfully installed drake-1.33.0\n"
          ]
        }
      ],
      "source": [
        "%%bash\n",
        "# If your project has a 'requirements.txt' file, we'll install it here apart from blacklisted packages that interfere with Deepnote (see above).\n",
        "cd /work/Drake-Deepnote/\n",
        "if test -f requirements.txt\n",
        "  then\n",
        "    sed -i '/jedi/d;/jupyter/d;' ./requirements.txt\n",
        "    pip install -r ./requirements.txt\n",
        "  else echo \"There's no requirements.txt, so nothing to install. This is the case with most projects.\"\n",
        "fi"
      ]
    }
  ],
  "metadata": {
    "deepnote_execution_queue": [],
    "deepnote_notebook_id": "3dc0da45d26b4c5691dc35aada2f8366",
    "kernelspec": {
      "display_name": "Python 3",
      "language": "python",
      "name": "python3"
    },
    "language_info": {
      "codemirror_mode": {
        "name": "ipython",
        "version": 3
      },
      "file_extension": ".py",
      "mimetype": "text/x-python",
      "name": "python",
      "nbconvert_exporter": "python",
      "pygments_lexer": "ipython3",
      "version": "3.10.12"
    }
  },
  "nbformat": 4,
  "nbformat_minor": 0
}

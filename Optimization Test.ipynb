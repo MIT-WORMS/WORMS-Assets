{
  "cells": [
    {
      "cell_type": "code",
      "execution_count": 1,
      "metadata": {
        "cell_id": "65c2e51024554785bc1e13e6e8b0bf95",
        "deepnote_cell_type": "code",
        "execution_context_id": "37e5a01e-d1e2-45f0-a8ba-ea7d38ab71af",
        "execution_millis": 476,
        "execution_start": 1728134322340,
        "source_hash": "8ee5ab7"
      },
      "outputs": [],
      "source": [
        "import numpy as np\n",
        "from pydrake.all import MathematicalProgram, Solve, eq, ge, le"
      ]
    },
    {
      "cell_type": "code",
      "execution_count": 2,
      "metadata": {
        "cell_id": "3dd29553a1914b13a8359af6538d4798",
        "deepnote_cell_type": "code",
        "execution_context_id": "37e5a01e-d1e2-45f0-a8ba-ea7d38ab71af",
        "execution_millis": 1,
        "execution_start": 1728134322872,
        "source_hash": "4764df90"
      },
      "outputs": [],
      "source": [
        "\"\"\"\n",
        "Steps to solve a optimization problem using Drake's MathematicalProgram\n",
        "\"\"\"\n",
        "\n",
        "# 1. Define an instance of MathematicalProgram\n",
        "prog = MathematicalProgram()\n",
        "\n",
        "# 2. Add decision varaibles\n",
        "p = prog.NewContinuousVariables(3)\n",
        "\n",
        "# 3. Add Cost function\n",
        "Q = np.array([[1, 1  , 1  ], \n",
        "              [1, 4/3, 3/2],\n",
        "              [1, 3/2, 9/5]])\n",
        "prog.AddCost(np.transpose(p) @ Q @ p)\n",
        "\n",
        "# 4. Add Constraints\n",
        "A = np.array([1, 1, 1])\n",
        "b = np.array([1])\n",
        "prog.AddConstraint(eq(A @ p, b)) # P(1) = 1\n",
        "\n",
        "A2 = np.array([1, 2, 3])\n",
        "b2 = np.array([-2])\n",
        "prog.AddConstraint(eq(A2 @ p, b2)) # P'(1) = 1\n",
        "\n",
        "# 5. Solve the problem\n",
        "result = Solve(prog)\n",
        "\n",
        "# 6. Get the solution\n",
        "if result.is_success():\n",
        "    print(\"Solution: \" + str(result.GetSolution()))"
      ]
    }
  ],
  "metadata": {
    "deepnote_execution_queue": [],
    "deepnote_notebook_id": "3abe562af43342c2aed6710147850cbe",
    "language_info": {
      "name": "python"
    }
  },
  "nbformat": 4,
  "nbformat_minor": 0
}
